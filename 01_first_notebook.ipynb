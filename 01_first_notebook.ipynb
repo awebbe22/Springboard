{
 "cells": [
  {
   "cell_type": "markdown",
   "id": "13f67b59",
   "metadata": {},
   "source": [
    "# Introduction\n",
    "\n",
    "***\n",
    "This is my *first* Jupyter notebook\n",
    "***"
   ]
  },
  {
   "cell_type": "code",
   "execution_count": 11,
   "id": "751f612e",
   "metadata": {},
   "outputs": [],
   "source": [
    "x = 5\n",
    "y = 6\n",
    "z = x + y"
   ]
  },
  {
   "cell_type": "code",
   "execution_count": 12,
   "id": "bf9683b3",
   "metadata": {},
   "outputs": [
    {
     "name": "stdout",
     "output_type": "stream",
     "text": [
      "11\n"
     ]
    }
   ],
   "source": [
    "print(z)"
   ]
  },
  {
   "cell_type": "markdown",
   "id": "554e468b",
   "metadata": {},
   "source": [
    "![Hello!](https://media1.giphy.com/media/dw36yjtOAtuSZyxEJG/giphy.gif?cid=ecf05e47lmvbmexuh568k61z6hzj0a72cxm7qz2epchbu5vk&rid=giphy.gif&ct=g)"
   ]
  }
 ],
 "metadata": {
  "kernelspec": {
   "display_name": "Python 3 (ipykernel)",
   "language": "python",
   "name": "python3"
  },
  "language_info": {
   "codemirror_mode": {
    "name": "ipython",
    "version": 3
   },
   "file_extension": ".py",
   "mimetype": "text/x-python",
   "name": "python",
   "nbconvert_exporter": "python",
   "pygments_lexer": "ipython3",
   "version": "3.9.13"
  }
 },
 "nbformat": 4,
 "nbformat_minor": 5
}
